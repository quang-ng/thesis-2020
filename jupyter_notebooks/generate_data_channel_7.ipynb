{
 "cells": [
  {
   "cell_type": "code",
   "execution_count": 160,
   "metadata": {},
   "outputs": [],
   "source": [
    "import pandas as pd"
   ]
  },
  {
   "cell_type": "code",
   "execution_count": 163,
   "metadata": {},
   "outputs": [],
   "source": [
    "df = pd.read_csv(\"./../data/data_wuhan/channel_7.csv\",\n",
    "                 usecols=[\"Date_Time\", \"Test_Time(s)\", \"Step_Index\", \"Cycle_Index\", \"Voltage(V)\", \"Current(A)\", \"Charge_Capacity(Ah)\", \"Discharge_Capacity(Ah)\"])"
   ]
  },
  {
   "cell_type": "code",
   "execution_count": 166,
   "metadata": {},
   "outputs": [
    {
     "data": {
      "text/html": [
       "<div>\n",
       "<style scoped>\n",
       "    .dataframe tbody tr th:only-of-type {\n",
       "        vertical-align: middle;\n",
       "    }\n",
       "\n",
       "    .dataframe tbody tr th {\n",
       "        vertical-align: top;\n",
       "    }\n",
       "\n",
       "    .dataframe thead th {\n",
       "        text-align: right;\n",
       "    }\n",
       "</style>\n",
       "<table border=\"1\" class=\"dataframe\">\n",
       "  <thead>\n",
       "    <tr style=\"text-align: right;\">\n",
       "      <th></th>\n",
       "      <th>Date_Time</th>\n",
       "      <th>Test_Time(s)</th>\n",
       "      <th>Step_Index</th>\n",
       "      <th>Cycle_Index</th>\n",
       "      <th>Voltage(V)</th>\n",
       "      <th>Current(A)</th>\n",
       "      <th>Charge_Capacity(Ah)</th>\n",
       "      <th>Discharge_Capacity(Ah)</th>\n",
       "    </tr>\n",
       "  </thead>\n",
       "  <tbody>\n",
       "    <tr>\n",
       "      <th>0</th>\n",
       "      <td>2018-09-14 16:39:49.863</td>\n",
       "      <td>60.010500</td>\n",
       "      <td>1</td>\n",
       "      <td>1</td>\n",
       "      <td>3.530674</td>\n",
       "      <td>1.299788</td>\n",
       "      <td>0.021548</td>\n",
       "      <td>1.761754e-09</td>\n",
       "    </tr>\n",
       "    <tr>\n",
       "      <th>1</th>\n",
       "      <td>2018-09-14 16:40:49.864</td>\n",
       "      <td>120.011800</td>\n",
       "      <td>1</td>\n",
       "      <td>1</td>\n",
       "      <td>3.558775</td>\n",
       "      <td>1.299831</td>\n",
       "      <td>0.043207</td>\n",
       "      <td>1.761754e-09</td>\n",
       "    </tr>\n",
       "    <tr>\n",
       "      <th>2</th>\n",
       "      <td>2018-09-14 16:41:49.853</td>\n",
       "      <td>180.000900</td>\n",
       "      <td>1</td>\n",
       "      <td>1</td>\n",
       "      <td>3.570162</td>\n",
       "      <td>1.299841</td>\n",
       "      <td>0.064868</td>\n",
       "      <td>1.761754e-09</td>\n",
       "    </tr>\n",
       "    <tr>\n",
       "      <th>3</th>\n",
       "      <td>2018-09-14 16:42:49.861</td>\n",
       "      <td>240.008900</td>\n",
       "      <td>1</td>\n",
       "      <td>1</td>\n",
       "      <td>3.576921</td>\n",
       "      <td>1.299820</td>\n",
       "      <td>0.086534</td>\n",
       "      <td>1.761754e-09</td>\n",
       "    </tr>\n",
       "    <tr>\n",
       "      <th>4</th>\n",
       "      <td>2018-09-14 16:43:49.860</td>\n",
       "      <td>300.007800</td>\n",
       "      <td>1</td>\n",
       "      <td>1</td>\n",
       "      <td>3.583076</td>\n",
       "      <td>1.299814</td>\n",
       "      <td>0.108199</td>\n",
       "      <td>1.761754e-09</td>\n",
       "    </tr>\n",
       "    <tr>\n",
       "      <th>...</th>\n",
       "      <td>...</td>\n",
       "      <td>...</td>\n",
       "      <td>...</td>\n",
       "      <td>...</td>\n",
       "      <td>...</td>\n",
       "      <td>...</td>\n",
       "      <td>...</td>\n",
       "      <td>...</td>\n",
       "    </tr>\n",
       "    <tr>\n",
       "      <th>234</th>\n",
       "      <td>2018-09-14 20:33:09.818</td>\n",
       "      <td>14059.965792</td>\n",
       "      <td>3</td>\n",
       "      <td>1</td>\n",
       "      <td>3.058974</td>\n",
       "      <td>-1.299524</td>\n",
       "      <td>2.216611</td>\n",
       "      <td>2.209313e+00</td>\n",
       "    </tr>\n",
       "    <tr>\n",
       "      <th>235</th>\n",
       "      <td>2018-09-14 20:34:09.820</td>\n",
       "      <td>14119.967692</td>\n",
       "      <td>3</td>\n",
       "      <td>1</td>\n",
       "      <td>2.996843</td>\n",
       "      <td>-1.299570</td>\n",
       "      <td>2.216611</td>\n",
       "      <td>2.230957e+00</td>\n",
       "    </tr>\n",
       "    <tr>\n",
       "      <th>236</th>\n",
       "      <td>2018-09-14 20:35:09.817</td>\n",
       "      <td>14179.964792</td>\n",
       "      <td>3</td>\n",
       "      <td>1</td>\n",
       "      <td>2.920110</td>\n",
       "      <td>-1.299566</td>\n",
       "      <td>2.216611</td>\n",
       "      <td>2.252634e+00</td>\n",
       "    </tr>\n",
       "    <tr>\n",
       "      <th>237</th>\n",
       "      <td>2018-09-14 20:36:09.816</td>\n",
       "      <td>14239.963192</td>\n",
       "      <td>3</td>\n",
       "      <td>1</td>\n",
       "      <td>2.821015</td>\n",
       "      <td>-1.299526</td>\n",
       "      <td>2.216611</td>\n",
       "      <td>2.274287e+00</td>\n",
       "    </tr>\n",
       "    <tr>\n",
       "      <th>238</th>\n",
       "      <td>2018-09-14 20:36:42.607</td>\n",
       "      <td>14272.754892</td>\n",
       "      <td>3</td>\n",
       "      <td>1</td>\n",
       "      <td>2.749995</td>\n",
       "      <td>-1.299587</td>\n",
       "      <td>2.216611</td>\n",
       "      <td>2.286119e+00</td>\n",
       "    </tr>\n",
       "  </tbody>\n",
       "</table>\n",
       "<p>209 rows × 8 columns</p>\n",
       "</div>"
      ],
      "text/plain": [
       "                   Date_Time  Test_Time(s)  Step_Index  Cycle_Index  \\\n",
       "0    2018-09-14 16:39:49.863     60.010500           1            1   \n",
       "1    2018-09-14 16:40:49.864    120.011800           1            1   \n",
       "2    2018-09-14 16:41:49.853    180.000900           1            1   \n",
       "3    2018-09-14 16:42:49.861    240.008900           1            1   \n",
       "4    2018-09-14 16:43:49.860    300.007800           1            1   \n",
       "..                       ...           ...         ...          ...   \n",
       "234  2018-09-14 20:33:09.818  14059.965792           3            1   \n",
       "235  2018-09-14 20:34:09.820  14119.967692           3            1   \n",
       "236  2018-09-14 20:35:09.817  14179.964792           3            1   \n",
       "237  2018-09-14 20:36:09.816  14239.963192           3            1   \n",
       "238  2018-09-14 20:36:42.607  14272.754892           3            1   \n",
       "\n",
       "     Voltage(V)  Current(A)  Charge_Capacity(Ah)  Discharge_Capacity(Ah)  \n",
       "0      3.530674    1.299788             0.021548            1.761754e-09  \n",
       "1      3.558775    1.299831             0.043207            1.761754e-09  \n",
       "2      3.570162    1.299841             0.064868            1.761754e-09  \n",
       "3      3.576921    1.299820             0.086534            1.761754e-09  \n",
       "4      3.583076    1.299814             0.108199            1.761754e-09  \n",
       "..          ...         ...                  ...                     ...  \n",
       "234    3.058974   -1.299524             2.216611            2.209313e+00  \n",
       "235    2.996843   -1.299570             2.216611            2.230957e+00  \n",
       "236    2.920110   -1.299566             2.216611            2.252634e+00  \n",
       "237    2.821015   -1.299526             2.216611            2.274287e+00  \n",
       "238    2.749995   -1.299587             2.216611            2.286119e+00  \n",
       "\n",
       "[209 rows x 8 columns]"
      ]
     },
     "execution_count": 166,
     "metadata": {},
     "output_type": "execute_result"
    }
   ],
   "source": [
    "df[(df.Cycle_Index == 1) & ( (df.Step_Index == 1) | (df.Step_Index == 3))]"
   ]
  },
  {
   "cell_type": "code",
   "execution_count": 169,
   "metadata": {},
   "outputs": [
    {
     "data": {
      "text/plain": [
       "'2018-09-14 16:39:49.863'"
      ]
     },
     "execution_count": 169,
     "metadata": {},
     "output_type": "execute_result"
    }
   ],
   "source": [
    "df['Date_Time'].min()"
   ]
  },
  {
   "cell_type": "code",
   "execution_count": 171,
   "metadata": {},
   "outputs": [
    {
     "data": {
      "text/plain": [
       "'2019-01-16 12:55:18.925'"
      ]
     },
     "execution_count": 171,
     "metadata": {},
     "output_type": "execute_result"
    }
   ],
   "source": [
    "df['Date_Time'].max()"
   ]
  },
  {
   "cell_type": "code",
   "execution_count": 177,
   "metadata": {},
   "outputs": [
    {
     "data": {
      "text/plain": [
       "1395249"
      ]
     },
     "execution_count": 177,
     "metadata": {},
     "output_type": "execute_result"
    }
   ],
   "source": [
    "len(df)"
   ]
  },
  {
   "cell_type": "code",
   "execution_count": null,
   "metadata": {},
   "outputs": [],
   "source": [
    "df[(df.Cycle_Index == 1)]['Date_Time']"
   ]
  },
  {
   "cell_type": "code",
   "execution_count": 188,
   "metadata": {},
   "outputs": [],
   "source": [
    "voltage = df[(df.Cycle_Index == 1) & (df.Step_Index == 1)]['Voltage(V)'].values"
   ]
  },
  {
   "cell_type": "code",
   "execution_count": 197,
   "metadata": {},
   "outputs": [],
   "source": [
    "x = range(0, len(voltage))"
   ]
  },
  {
   "cell_type": "code",
   "execution_count": null,
   "metadata": {},
   "outputs": [],
   "source": []
  },
  {
   "cell_type": "code",
   "execution_count": 198,
   "metadata": {},
   "outputs": [],
   "source": [
    "df2 = pd.read_csv(\"./../data/data_wuhan/channel_8.csv\",\n",
    "                 usecols=[\"Date_Time\", \"Test_Time(s)\", \"Step_Index\", \"Cycle_Index\", \"Voltage(V)\", \"Current(A)\", \"Charge_Capacity(Ah)\", \"Discharge_Capacity(Ah)\"])"
   ]
  },
  {
   "cell_type": "code",
   "execution_count": 199,
   "metadata": {},
   "outputs": [],
   "source": [
    "voltage2 = df2[(df2.Cycle_Index == 1) & (df2.Step_Index == 1)]['Voltage(V)'].values"
   ]
  },
  {
   "cell_type": "code",
   "execution_count": 200,
   "metadata": {},
   "outputs": [],
   "source": [
    "x2 = range(0, len(voltage2))"
   ]
  },
  {
   "cell_type": "code",
   "execution_count": 209,
   "metadata": {},
   "outputs": [
    {
     "data": {
      "image/png": "[encoded data removed]",
      "text/plain": [
       "<Figure size 576x432 with 1 Axes>"
      ]
     },
     "metadata": {
      "needs_background": "light"
     },
     "output_type": "display_data"
    }
   ],
   "source": [
    "import numpy as np\n",
    "import matplotlib.pyplot as plt\n",
    "\n",
    "# Make some fake data.\n",
    "# Create plots with pre-defined labels.\n",
    "# plt.figure(figsize=(16,9))\n",
    "fig, ax = plt.subplots(figsize=(8,6))\n",
    "\n",
    "x = range(0, len(df[(df.Cycle_Index == 1) & (df.Step_Index == 1)]['Current(A)'].values))\n",
    "x2 = range(0, len(df2[(df2.Cycle_Index == 1) & (df2.Step_Index == 1)]['Current(A)'].values))\n",
    "\n",
    "\n",
    "plt.plot(x,   df[(df.Cycle_Index == 1) & (df.Step_Index == 1)]['Current(A)'].values, linestyle=\"-\", color='black', label='Battery#1')\n",
    "plt.plot(x2, df2[(df2.Cycle_Index == 1) & (df2.Step_Index == 1)]['Current(A)'].values, linestyle=\"-\", color='green', label='Battery#2')\n",
    "\n",
    "plt.xlabel('Time', fontsize=14)\n",
    "\n",
    "plt.ylabel('Voltage(V)', fontsize=14)\n",
    "\n",
    "# Put a nicer background color on the legend.\n",
    "legend = ax.legend(loc='lower left', shadow=True, fontsize='x-large')\n",
    "legend.get_frame().set_facecolor('C0')\n",
    "\n",
    "plt.show()"
   ]
  },
  {
   "cell_type": "code",
   "execution_count": null,
   "metadata": {},
   "outputs": [],
   "source": []
  },
  {
   "cell_type": "code",
   "execution_count": null,
   "metadata": {},
   "outputs": [],
   "source": []
  },
  {
   "cell_type": "code",
   "execution_count": null,
   "metadata": {},
   "outputs": [],
   "source": [
    "import numpy as np\n",
    "import matplotlib.pyplot as plt\n",
    "\n",
    "# Make some fake data.\n",
    "# Create plots with pre-defined labels.\n",
    "# plt.figure(figsize=(16,9))\n",
    "fig, ax = plt.subplots(figsize=(8,6))\n",
    "\n",
    "\n",
    "plt.plot(x,   df[(df.Cycle_Index == 1) & (df.Step_Index == 1)]['Voltage(V)'].values, linestyle=\"-\", color='black', label='Battery#1')\n",
    "plt.plot(x2, df2[(df2.Cycle_Index == 1) & (df2.Step_Index == 1)]['Voltage(V)'].values, linestyle=\"-\", color='green', label='Battery#2')\n",
    "\n",
    "plt.xlabel('Time', fontsize=14)\n",
    "\n",
    "plt.ylabel('Voltage(V)', fontsize=14)\n",
    "\n",
    "# Put a nicer background color on the legend.\n",
    "legend = ax.legend(loc='lower right', shadow=True, fontsize='x-large')\n",
    "legend.get_frame().set_facecolor('C0')\n",
    "\n",
    "plt.show()"
   ]
  },
  {
   "cell_type": "code",
   "execution_count": 4,
   "metadata": {},
   "outputs": [],
   "source": [
    "discharge_cap_over_cycle_df = pd.read_csv(\"./discharge_over_cycles_channel_7.csv\")"
   ]
  },
  {
   "cell_type": "code",
   "execution_count": 173,
   "metadata": {},
   "outputs": [
    {
     "data": {
      "text/html": [
       "<div>\n",
       "<style scoped>\n",
       "    .dataframe tbody tr th:only-of-type {\n",
       "        vertical-align: middle;\n",
       "    }\n",
       "\n",
       "    .dataframe tbody tr th {\n",
       "        vertical-align: top;\n",
       "    }\n",
       "\n",
       "    .dataframe thead th {\n",
       "        text-align: right;\n",
       "    }\n",
       "</style>\n",
       "<table border=\"1\" class=\"dataframe\">\n",
       "  <thead>\n",
       "    <tr style=\"text-align: right;\">\n",
       "      <th></th>\n",
       "      <th>Cycle</th>\n",
       "      <th>Discharge_Capacity(Ah)</th>\n",
       "    </tr>\n",
       "  </thead>\n",
       "  <tbody>\n",
       "    <tr>\n",
       "      <th>0</th>\n",
       "      <td>1</td>\n",
       "      <td>2.286119</td>\n",
       "    </tr>\n",
       "    <tr>\n",
       "      <th>1</th>\n",
       "      <td>2</td>\n",
       "      <td>2.290558</td>\n",
       "    </tr>\n",
       "    <tr>\n",
       "      <th>2</th>\n",
       "      <td>3</td>\n",
       "      <td>2.307867</td>\n",
       "    </tr>\n",
       "    <tr>\n",
       "      <th>3</th>\n",
       "      <td>4</td>\n",
       "      <td>2.308050</td>\n",
       "    </tr>\n",
       "    <tr>\n",
       "      <th>4</th>\n",
       "      <td>5</td>\n",
       "      <td>2.318817</td>\n",
       "    </tr>\n",
       "  </tbody>\n",
       "</table>\n",
       "</div>"
      ],
      "text/plain": [
       "   Cycle  Discharge_Capacity(Ah)\n",
       "0      1                2.286119\n",
       "1      2                2.290558\n",
       "2      3                2.307867\n",
       "3      4                2.308050\n",
       "4      5                2.318817"
      ]
     },
     "execution_count": 173,
     "metadata": {},
     "output_type": "execute_result"
    }
   ],
   "source": [
    "discharge_cap_over_cycle_df.head()"
   ]
  },
  {
   "cell_type": "code",
   "execution_count": 175,
   "metadata": {},
   "outputs": [
    {
     "data": {
      "text/plain": [
       "215"
      ]
     },
     "execution_count": 175,
     "metadata": {},
     "output_type": "execute_result"
    }
   ],
   "source": [
    "len(discharge_cap_over_cycle_df)"
   ]
  },
  {
   "cell_type": "code",
   "execution_count": 176,
   "metadata": {},
   "outputs": [
    {
     "data": {
      "text/plain": [
       "430"
      ]
     },
     "execution_count": 176,
     "metadata": {},
     "output_type": "execute_result"
    }
   ],
   "source": [
    "215 * 2"
   ]
  },
  {
   "cell_type": "code",
   "execution_count": 6,
   "metadata": {},
   "outputs": [],
   "source": [
    "discharge_cap_over_cycle_dict = {}\n",
    "for index, row in discharge_cap_over_cycle_df.iterrows():\n",
    "    discharge_cap_over_cycle_dict[int(row['Cycle'])] = row['Discharge_Capacity(Ah)']"
   ]
  },
  {
   "cell_type": "code",
   "execution_count": 133,
   "metadata": {},
   "outputs": [],
   "source": [
    "import numpy as np\n",
    "\n",
    "cycle_indexs = [1, 2]\n",
    "\n",
    "X = []\n",
    "Y = []\n",
    "for cycle_index in cycle_indexs:\n",
    "    for _ in range(0, 3):\n",
    "        data_df = df[(df.Cycle_Index == cycle_index) & ( (df.Step_Index == 1) | (df.Step_Index == 3))].sample(n = 5).sort_index()[['Voltage(V)', 'Current(A)', 'Charge_Capacity(Ah)']]\n",
    "        x = data_df.to_numpy().flatten()\n",
    "        y = discharge_cap_over_cycle_dict[cycle_index]\n",
    "        X.append(x)\n",
    "        Y.append(y)\n",
    "        \n",
    "X = np.array(X)\n",
    "Y = np.array(Y)"
   ]
  },
  {
   "cell_type": "code",
   "execution_count": 134,
   "metadata": {},
   "outputs": [
    {
     "data": {
      "text/plain": [
       "array([[ 4.09875631,  1.2997303 ,  1.97116864,  3.81801271, -1.29965019,\n",
       "         2.21661115,  3.62406588, -1.29954338,  2.21661115,  3.5529294 ,\n",
       "        -1.29958534,  2.21661115,  3.54770422, -1.29963875,  2.21661115],\n",
       "       [ 3.60287142,  1.29978752,  0.17318222,  3.79374552,  1.29971123,\n",
       "         1.10467458,  3.4468379 , -1.29962158,  2.21661115,  3.28175497,\n",
       "        -1.29958534,  2.21661115,  3.15036249, -1.29953766,  2.21661115],\n",
       "       [ 3.7311101 ,  1.29973602,  0.71475619,  3.74392557,  1.29970741,\n",
       "         0.80140448,  3.79797506,  1.299757  ,  1.12633979,  4.12550306,\n",
       "         1.29977417,  2.03615499,  3.43381071, -1.2995224 ,  2.21661115],\n",
       "       [ 3.76363802,  1.29973602,  1.10475278,  4.16854715,  1.29979897,\n",
       "         2.27456284,  3.90448618, -1.29970932,  2.34729981,  3.77499437,\n",
       "        -1.29965019,  2.34729981,  3.62704897, -1.29964828,  2.34729981],\n",
       "       [ 3.68530416,  1.29984665,  0.62815779,  3.99609613,  1.29973602,\n",
       "         1.88461888,  3.83072138, -1.29963303,  2.34729981,  3.48160505,\n",
       "        -1.29963493,  2.34729981,  3.38068724, -1.2994976 ,  2.34729981],\n",
       "       [ 3.5857234 ,  1.29984856,  0.28152809,  3.83629084,  1.29979897,\n",
       "         1.45136964,  3.84213018,  1.29979324,  1.47302699,  4.1019969 ,\n",
       "         1.29967308,  2.12291956,  3.65925932, -1.2996006 ,  2.34729981]])"
      ]
     },
     "execution_count": 134,
     "metadata": {},
     "output_type": "execute_result"
    }
   ],
   "source": [
    "X"
   ]
  },
  {
   "cell_type": "code",
   "execution_count": 135,
   "metadata": {},
   "outputs": [
    {
     "data": {
      "text/plain": [
       "(6, 15)"
      ]
     },
     "execution_count": 135,
     "metadata": {},
     "output_type": "execute_result"
    }
   ],
   "source": [
    "X.shape"
   ]
  },
  {
   "cell_type": "code",
   "execution_count": 136,
   "metadata": {},
   "outputs": [
    {
     "data": {
      "text/plain": [
       "array([2.28611898, 2.28611898, 2.28611898, 2.29055786, 2.29055786,\n",
       "       2.29055786])"
      ]
     },
     "execution_count": 136,
     "metadata": {},
     "output_type": "execute_result"
    }
   ],
   "source": [
    "Y"
   ]
  },
  {
   "cell_type": "code",
   "execution_count": 138,
   "metadata": {},
   "outputs": [
    {
     "data": {
      "text/plain": [
       "(6,)"
      ]
     },
     "execution_count": 138,
     "metadata": {},
     "output_type": "execute_result"
    }
   ],
   "source": [
    "Y.shape"
   ]
  },
  {
   "cell_type": "code",
   "execution_count": 43,
   "metadata": {},
   "outputs": [
    {
     "name": "stderr",
     "output_type": "stream",
     "text": [
      "Using TensorFlow backend.\n"
     ]
    }
   ],
   "source": [
    "import pandas as pd\n",
    "pd.plotting.register_matplotlib_converters()\n",
    "import matplotlib.pyplot as plt\n",
    "%matplotlib inline\n",
    "import seaborn as sns\n",
    "\n",
    "from keras import layers, regularizers\n",
    "from keras.layers import Input, Dense, Activation, ZeroPadding2D, BatchNormalization, Flatten, Conv2D, ReLU, Dense, SeparableConv2D, DepthwiseConv2D\n",
    "from keras.layers import AveragePooling2D, MaxPooling2D, Dropout, GlobalMaxPooling2D, GlobalAveragePooling2D\n",
    "from keras.models import Model, Sequential\n",
    "from keras.preprocessing import image\n",
    "from keras.utils import layer_utils\n",
    "from keras.utils.data_utils import get_file\n",
    "from keras.applications.imagenet_utils import preprocess_input\n",
    "import numpy as np\n",
    "from keras.optimizers import SGD, Adam\n",
    "import glob\n",
    "import multiprocessing as mp\n",
    "from itertools import repeat\n",
    "import sys"
   ]
  },
  {
   "cell_type": "code",
   "execution_count": 154,
   "metadata": {},
   "outputs": [],
   "source": [
    "# regularizer = None\n",
    "# model = keras.Sequential()\n",
    "# model.add(layers.Dense(2, activation=\"relu\", input_shape=(15,)))\n",
    "# model.add(layers.Dense(40, activation=\"relu\", input_shape=(15,)))\n",
    "\n",
    "# model.summary()\n",
    "\n",
    "# from keras.optimizers import SGD, Adam\n",
    "# sgd = SGD(lr=0.001, momentum=0.9)\n",
    "# model.compile(optimizer=sgd, loss='mse')\n"
   ]
  },
  {
   "cell_type": "code",
   "execution_count": 150,
   "metadata": {},
   "outputs": [
    {
     "data": {
      "text/plain": [
       "(6, 15)"
      ]
     },
     "execution_count": 150,
     "metadata": {},
     "output_type": "execute_result"
    }
   ],
   "source": [
    "X.shape"
   ]
  },
  {
   "cell_type": "code",
   "execution_count": 152,
   "metadata": {},
   "outputs": [
    {
     "data": {
      "text/plain": [
       "15"
      ]
     },
     "execution_count": 152,
     "metadata": {},
     "output_type": "execute_result"
    }
   ],
   "source": [
    "np.transpose(X).shape[0]"
   ]
  },
  {
   "cell_type": "code",
   "execution_count": 159,
   "metadata": {},
   "outputs": [
    {
     "name": "stdout",
     "output_type": "stream",
     "text": [
      "(15,)\n"
     ]
    },
    {
     "ename": "ValueError",
     "evalue": "Input 0 is incompatible with layer conv2d_35: expected ndim=4, found ndim=2",
     "output_type": "error",
     "traceback": [
      "\u001b[0;31m---------------------------------------------------------------------------\u001b[0m",
      "\u001b[0;31mValueError\u001b[0m                                Traceback (most recent call last)",
      "\u001b[0;32m<ipython-input-159-181c3f7f8ee5>\u001b[0m in \u001b[0;36m<module>\u001b[0;34m\u001b[0m\n\u001b[1;32m     30\u001b[0m                     \u001b[0mDense\u001b[0m\u001b[0;34m(\u001b[0m\u001b[0;36m40\u001b[0m\u001b[0;34m,\u001b[0m \u001b[0mkernel_regularizer\u001b[0m\u001b[0;34m=\u001b[0m\u001b[0mregularizer\u001b[0m\u001b[0;34m)\u001b[0m\u001b[0;34m,\u001b[0m\u001b[0;34m\u001b[0m\u001b[0;34m\u001b[0m\u001b[0m\n\u001b[1;32m     31\u001b[0m                     \u001b[0mBatchNormalization\u001b[0m\u001b[0;34m(\u001b[0m\u001b[0;34m)\u001b[0m\u001b[0;34m,\u001b[0m\u001b[0;34m\u001b[0m\u001b[0;34m\u001b[0m\u001b[0m\n\u001b[0;32m---> 32\u001b[0;31m                     \u001b[0mReLU\u001b[0m\u001b[0;34m(\u001b[0m\u001b[0;34m)\u001b[0m\u001b[0;34m,\u001b[0m\u001b[0;34m\u001b[0m\u001b[0;34m\u001b[0m\u001b[0m\n\u001b[0m\u001b[1;32m     33\u001b[0m   ])\n\u001b[1;32m     34\u001b[0m \u001b[0;34m\u001b[0m\u001b[0m\n",
      "\u001b[0;32m/opt/anaconda3/lib/python3.7/site-packages/keras/engine/sequential.py\u001b[0m in \u001b[0;36m__init__\u001b[0;34m(self, layers, name)\u001b[0m\n\u001b[1;32m     92\u001b[0m         \u001b[0;32mif\u001b[0m \u001b[0mlayers\u001b[0m\u001b[0;34m:\u001b[0m\u001b[0;34m\u001b[0m\u001b[0;34m\u001b[0m\u001b[0m\n\u001b[1;32m     93\u001b[0m             \u001b[0;32mfor\u001b[0m \u001b[0mlayer\u001b[0m \u001b[0;32min\u001b[0m \u001b[0mlayers\u001b[0m\u001b[0;34m:\u001b[0m\u001b[0;34m\u001b[0m\u001b[0;34m\u001b[0m\u001b[0m\n\u001b[0;32m---> 94\u001b[0;31m                 \u001b[0mself\u001b[0m\u001b[0;34m.\u001b[0m\u001b[0madd\u001b[0m\u001b[0;34m(\u001b[0m\u001b[0mlayer\u001b[0m\u001b[0;34m)\u001b[0m\u001b[0;34m\u001b[0m\u001b[0;34m\u001b[0m\u001b[0m\n\u001b[0m\u001b[1;32m     95\u001b[0m \u001b[0;34m\u001b[0m\u001b[0m\n\u001b[1;32m     96\u001b[0m     \u001b[0;34m@\u001b[0m\u001b[0mproperty\u001b[0m\u001b[0;34m\u001b[0m\u001b[0;34m\u001b[0m\u001b[0m\n",
      "\u001b[0;32m/opt/anaconda3/lib/python3.7/site-packages/keras/engine/sequential.py\u001b[0m in \u001b[0;36madd\u001b[0;34m(self, layer)\u001b[0m\n\u001b[1;32m    164\u001b[0m                     \u001b[0;31m# and create the node connecting the current layer\u001b[0m\u001b[0;34m\u001b[0m\u001b[0;34m\u001b[0m\u001b[0;34m\u001b[0m\u001b[0m\n\u001b[1;32m    165\u001b[0m                     \u001b[0;31m# to the input layer we just created.\u001b[0m\u001b[0;34m\u001b[0m\u001b[0;34m\u001b[0m\u001b[0;34m\u001b[0m\u001b[0m\n\u001b[0;32m--> 166\u001b[0;31m                     \u001b[0mlayer\u001b[0m\u001b[0;34m(\u001b[0m\u001b[0mx\u001b[0m\u001b[0;34m)\u001b[0m\u001b[0;34m\u001b[0m\u001b[0;34m\u001b[0m\u001b[0m\n\u001b[0m\u001b[1;32m    167\u001b[0m                     \u001b[0mset_inputs\u001b[0m \u001b[0;34m=\u001b[0m \u001b[0;32mTrue\u001b[0m\u001b[0;34m\u001b[0m\u001b[0;34m\u001b[0m\u001b[0m\n\u001b[1;32m    168\u001b[0m             \u001b[0;32melse\u001b[0m\u001b[0;34m:\u001b[0m\u001b[0;34m\u001b[0m\u001b[0;34m\u001b[0m\u001b[0m\n",
      "\u001b[0;32m/opt/anaconda3/lib/python3.7/site-packages/keras/backend/tensorflow_backend.py\u001b[0m in \u001b[0;36msymbolic_fn_wrapper\u001b[0;34m(*args, **kwargs)\u001b[0m\n\u001b[1;32m     73\u001b[0m         \u001b[0;32mif\u001b[0m \u001b[0m_SYMBOLIC_SCOPE\u001b[0m\u001b[0;34m.\u001b[0m\u001b[0mvalue\u001b[0m\u001b[0;34m:\u001b[0m\u001b[0;34m\u001b[0m\u001b[0;34m\u001b[0m\u001b[0m\n\u001b[1;32m     74\u001b[0m             \u001b[0;32mwith\u001b[0m \u001b[0mget_graph\u001b[0m\u001b[0;34m(\u001b[0m\u001b[0;34m)\u001b[0m\u001b[0;34m.\u001b[0m\u001b[0mas_default\u001b[0m\u001b[0;34m(\u001b[0m\u001b[0;34m)\u001b[0m\u001b[0;34m:\u001b[0m\u001b[0;34m\u001b[0m\u001b[0;34m\u001b[0m\u001b[0m\n\u001b[0;32m---> 75\u001b[0;31m                 \u001b[0;32mreturn\u001b[0m \u001b[0mfunc\u001b[0m\u001b[0;34m(\u001b[0m\u001b[0;34m*\u001b[0m\u001b[0margs\u001b[0m\u001b[0;34m,\u001b[0m \u001b[0;34m**\u001b[0m\u001b[0mkwargs\u001b[0m\u001b[0;34m)\u001b[0m\u001b[0;34m\u001b[0m\u001b[0;34m\u001b[0m\u001b[0m\n\u001b[0m\u001b[1;32m     76\u001b[0m         \u001b[0;32melse\u001b[0m\u001b[0;34m:\u001b[0m\u001b[0;34m\u001b[0m\u001b[0;34m\u001b[0m\u001b[0m\n\u001b[1;32m     77\u001b[0m             \u001b[0;32mreturn\u001b[0m \u001b[0mfunc\u001b[0m\u001b[0;34m(\u001b[0m\u001b[0;34m*\u001b[0m\u001b[0margs\u001b[0m\u001b[0;34m,\u001b[0m \u001b[0;34m**\u001b[0m\u001b[0mkwargs\u001b[0m\u001b[0;34m)\u001b[0m\u001b[0;34m\u001b[0m\u001b[0;34m\u001b[0m\u001b[0m\n",
      "\u001b[0;32m/opt/anaconda3/lib/python3.7/site-packages/keras/engine/base_layer.py\u001b[0m in \u001b[0;36m__call__\u001b[0;34m(self, inputs, **kwargs)\u001b[0m\n\u001b[1;32m    444\u001b[0m                 \u001b[0;31m# Raise exceptions in case the input is not compatible\u001b[0m\u001b[0;34m\u001b[0m\u001b[0;34m\u001b[0m\u001b[0;34m\u001b[0m\u001b[0m\n\u001b[1;32m    445\u001b[0m                 \u001b[0;31m# with the input_spec specified in the layer constructor.\u001b[0m\u001b[0;34m\u001b[0m\u001b[0;34m\u001b[0m\u001b[0;34m\u001b[0m\u001b[0m\n\u001b[0;32m--> 446\u001b[0;31m                 \u001b[0mself\u001b[0m\u001b[0;34m.\u001b[0m\u001b[0massert_input_compatibility\u001b[0m\u001b[0;34m(\u001b[0m\u001b[0minputs\u001b[0m\u001b[0;34m)\u001b[0m\u001b[0;34m\u001b[0m\u001b[0;34m\u001b[0m\u001b[0m\n\u001b[0m\u001b[1;32m    447\u001b[0m \u001b[0;34m\u001b[0m\u001b[0m\n\u001b[1;32m    448\u001b[0m                 \u001b[0;31m# Collect input shapes to build layer.\u001b[0m\u001b[0;34m\u001b[0m\u001b[0;34m\u001b[0m\u001b[0;34m\u001b[0m\u001b[0m\n",
      "\u001b[0;32m/opt/anaconda3/lib/python3.7/site-packages/keras/engine/base_layer.py\u001b[0m in \u001b[0;36massert_input_compatibility\u001b[0;34m(self, inputs)\u001b[0m\n\u001b[1;32m    340\u001b[0m                                      \u001b[0mself\u001b[0m\u001b[0;34m.\u001b[0m\u001b[0mname\u001b[0m \u001b[0;34m+\u001b[0m \u001b[0;34m': expected ndim='\u001b[0m \u001b[0;34m+\u001b[0m\u001b[0;34m\u001b[0m\u001b[0;34m\u001b[0m\u001b[0m\n\u001b[1;32m    341\u001b[0m                                      \u001b[0mstr\u001b[0m\u001b[0;34m(\u001b[0m\u001b[0mspec\u001b[0m\u001b[0;34m.\u001b[0m\u001b[0mndim\u001b[0m\u001b[0;34m)\u001b[0m \u001b[0;34m+\u001b[0m \u001b[0;34m', found ndim='\u001b[0m \u001b[0;34m+\u001b[0m\u001b[0;34m\u001b[0m\u001b[0;34m\u001b[0m\u001b[0m\n\u001b[0;32m--> 342\u001b[0;31m                                      str(K.ndim(x)))\n\u001b[0m\u001b[1;32m    343\u001b[0m             \u001b[0;32mif\u001b[0m \u001b[0mspec\u001b[0m\u001b[0;34m.\u001b[0m\u001b[0mmax_ndim\u001b[0m \u001b[0;32mis\u001b[0m \u001b[0;32mnot\u001b[0m \u001b[0;32mNone\u001b[0m\u001b[0;34m:\u001b[0m\u001b[0;34m\u001b[0m\u001b[0;34m\u001b[0m\u001b[0m\n\u001b[1;32m    344\u001b[0m                 \u001b[0mndim\u001b[0m \u001b[0;34m=\u001b[0m \u001b[0mK\u001b[0m\u001b[0;34m.\u001b[0m\u001b[0mndim\u001b[0m\u001b[0;34m(\u001b[0m\u001b[0mx\u001b[0m\u001b[0;34m)\u001b[0m\u001b[0;34m\u001b[0m\u001b[0;34m\u001b[0m\u001b[0m\n",
      "\u001b[0;31mValueError\u001b[0m: Input 0 is incompatible with layer conv2d_35: expected ndim=4, found ndim=2"
     ]
    }
   ],
   "source": [
    "# input_shape = (np.transpose(X).shape[0], )\n",
    "# print(input_shape)\n",
    "regularizer = None\n",
    "model = Sequential([\n",
    "                    Conv2D(input_shape=(1,15), \n",
    "                           filters=16, \n",
    "                           kernel_size=(1,2),\n",
    "                           strides=(1,1), \n",
    "                           padding='same', \n",
    "                           kernel_regularizer=regularizer),\n",
    "                    BatchNormalization(axis=1),\n",
    "                    ReLU(),\n",
    "                    MaxPooling2D(pool_size=(3,1), strides=(2,1)),\n",
    "                    Conv2D(filters=32, kernel_size=(3,1), strides=(1,1), padding='same', kernel_regularizer=regularizer),\n",
    "                    BatchNormalization(axis=1),\n",
    "                    ReLU(),\n",
    "                    Conv2D(filters=40, kernel_size=(3,1), strides=(1,1), padding='same', kernel_regularizer=regularizer),\n",
    "                    BatchNormalization(axis=1),\n",
    "                    ReLU(),\n",
    "                    Conv2D(filters=40, kernel_size=(3,1), strides=(1,1), padding='same', kernel_regularizer=regularizer),\n",
    "                    BatchNormalization(axis=1),\n",
    "                    ReLU(),\n",
    "                    Conv2D(filters=40, kernel_size=(3,1), strides=(1,1), padding='same', kernel_regularizer=regularizer),\n",
    "                    BatchNormalization(axis=1),\n",
    "                    ReLU(),\n",
    "                    GlobalAveragePooling2D(),\n",
    "                    Dense(40, kernel_regularizer=regularizer),\n",
    "                    BatchNormalization(),\n",
    "                    ReLU(),\n",
    "                    Dense(40, kernel_regularizer=regularizer),\n",
    "                    BatchNormalization(),\n",
    "                    ReLU(),\n",
    "  ])\n",
    "\n",
    "sgd = SGD(lr=0.001, momentum=0.9)\n",
    "model.compile(optimizer=sgd, loss='mse')"
   ]
  },
  {
   "cell_type": "code",
   "execution_count": null,
   "metadata": {},
   "outputs": [],
   "source": []
  },
  {
   "cell_type": "code",
   "execution_count": null,
   "metadata": {},
   "outputs": [],
   "source": []
  },
  {
   "cell_type": "code",
   "execution_count": null,
   "metadata": {},
   "outputs": [],
   "source": []
  },
  {
   "cell_type": "code",
   "execution_count": null,
   "metadata": {},
   "outputs": [],
   "source": []
  }
 ],
 "metadata": {
  "kernelspec": {
   "display_name": "Python 3",
   "language": "python",
   "name": "python3"
  },
  "language_info": {
   "codemirror_mode": {
    "name": "ipython",
    "version": 3
   },
   "file_extension": ".py",
   "mimetype": "text/x-python",
   "name": "python",
   "nbconvert_exporter": "python",
   "pygments_lexer": "ipython3",
   "version": "3.7.4"
  }
 },
 "nbformat": 4,
 "nbformat_minor": 2
}
